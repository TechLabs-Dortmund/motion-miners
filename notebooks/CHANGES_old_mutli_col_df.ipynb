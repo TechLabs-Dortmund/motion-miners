{
  "nbformat": 4,
  "nbformat_minor": 0,
  "metadata": {
    "colab": {
      "name": "old_mutli-col-df.ipynb",
      "provenance": [],
      "collapsed_sections": []
    },
    "kernelspec": {
      "name": "python3",
      "display_name": "Python 3"
    },
    "language_info": {
      "name": "python"
    }
  },
  "cells": [
    {
      "cell_type": "markdown",
      "metadata": {
        "id": "DqG3aLSynwo6"
      },
      "source": [
        "# JSON layout data"
      ]
    },
    {
      "cell_type": "code",
      "metadata": {
        "colab": {
          "base_uri": "https://localhost:8080/"
        },
        "id": "8Vcks8chev34",
        "outputId": "6c8aee52-5161-4116-e748-59b9a77418f0"
      },
      "source": [
        "import json\n",
        "import numpy as np\n",
        "import pandas as pd\n",
        "from google.colab import drive\n",
        "drive.mount('/content/drive')"
      ],
      "execution_count": 1,
      "outputs": [
        {
          "output_type": "stream",
          "name": "stdout",
          "text": [
            "Mounted at /content/drive\n"
          ]
        }
      ]
    },
    {
      "cell_type": "code",
      "metadata": {
        "id": "M3IrM72iezhu"
      },
      "source": [
        "#get the layout-data from the json file\n",
        "\n",
        "jsonfile = \"/content/drive/MyDrive/MM Project/Data/layout.json\"\n",
        "with open(jsonfile, 'r') as json_file:\n",
        "    data = json.load(json_file)\n",
        "    #for i in data['beacons']:\n",
        "    #    print(i)\n",
        "    #for i in data['regions']:\n",
        "    #    print(i)\n",
        "\n",
        "    data_regions = pd.DataFrame.from_dict(data['regions'])\n",
        "    data_beacons = pd.DataFrame.from_dict(data['beacons'])\n"
      ],
      "execution_count": 2,
      "outputs": []
    },
    {
      "cell_type": "code",
      "metadata": {
        "id": "xs98vip_n_nv"
      },
      "source": [
        "data_merged = data_beacons.merge(data_regions, left_on='region_uuid', right_on='uuid')\n",
        "\n",
        "#print(data_merged.head())\n",
        "#print(data_beacons.shape)\n",
        "#print(data_regions.shape)\n",
        "#print(data_merged.shape)\n",
        "\n",
        "data_merged.rename(columns={'id_x': 'beacon_id', 'id_y': 'region_id', 'name': 'region_name', 'position_x': 'b_pos_x', 'position_y': 'b_pos_y', \\\n",
        "'position_top_left_x': 'rpos_top_left_x', 'position_top_left_y': 'rpos_top_left_y', \\\n",
        "'position_bottom_right_x': 'rpos_bottom_right_x', 'position_bottom_right_y': 'rpos_bottom_right_y'}, inplace=True)\n",
        "data_merged.drop(['uuid_x', 'comment', 'region_uuid', 'uuid_y', 'layout_uuid_y', 'layout_uuid_x', 'exclude_from_eval', 'special_activities', 'to_be_deleted', 'label_uuid'], axis=1, inplace=True)\n",
        "data_merged['region_beacon'] = data_merged['region_id'].astype(str) + \"_\" + data_merged['beacon_id'].astype(str)\n",
        "\n",
        "#print(data_merged.head())"
      ],
      "execution_count": 3,
      "outputs": []
    },
    {
      "cell_type": "code",
      "metadata": {
        "colab": {
          "base_uri": "https://localhost:8080/"
        },
        "id": "8Qhn6KCzoMma",
        "outputId": "4eeeaa08-3e45-41e2-877b-2a23d191d3d5"
      },
      "source": [
        "expected_flow = {'flow_region_name': ['pre-checkin', 'waiting checkin', 'checkin main', 'waiting', 'doctor table', 'vaccination', 'waiting II', 'checkout', 'waiting III'], \\\n",
        "'flow_id': [1, 2, 3, 4, 5, 6, 7, 8, 9],\\\n",
        "'cor_region': [[1, 2, 5], 90, [3, 4], 91, [10, 11, 12, 13, 14, 15, 16, 17, 18, 19], [20, 21, 22, 23, 24, 25, 26, 27, 28, 29], 92, [30, 31, 32, 33, 34 ,35, 36, 37 ,38, 39, 40, 41], 93]}\n",
        "\n",
        "expected_regions = pd.DataFrame.from_dict(data=expected_flow)\n",
        "#print(expected_regions)\n",
        "\n",
        "exp_long = expected_regions.explode('cor_region')\n",
        "print(exp_long.shape)"
      ],
      "execution_count": 4,
      "outputs": [
        {
          "output_type": "stream",
          "name": "stdout",
          "text": [
            "(41, 3)\n"
          ]
        }
      ]
    },
    {
      "cell_type": "code",
      "metadata": {
        "colab": {
          "base_uri": "https://localhost:8080/"
        },
        "id": "UACazFLaMpE_",
        "outputId": "c9a85c7a-6ba7-425e-9bbd-fa17052ebfbd"
      },
      "source": [
        "# adjust the region flow -> create a region/flow 0 for \"Pause/Not in use\"\n",
        "\n",
        "adj_expected_flow = {'flow_region_name': ['Not in use', 'pre-checkin', 'waiting checkin', 'checkin main', 'waiting', 'doctor table', 'vaccination', 'waiting II', 'checkout', 'waiting III'], \\\n",
        "'flow_id': [0, 1, 2, 3, 4, 5, 6, 7, 8, 9],\\\n",
        "'cor_region': [1, [2, 5], 90, [3, 4], 91, [10, 11, 12, 13, 14, 15, 16, 17, 18, 19], [20, 21, 22, 23, 24, 25, 26, 27, 28, 29], 92, [30, 31, 32, 33, 34 ,35, 36, 37 ,38, 39, 40, 41], 93]}\n",
        "\n",
        "adj_expected_regions = pd.DataFrame.from_dict(data=adj_expected_flow)\n",
        "#print(expected_regions)\n",
        "\n",
        "adj_exp_long = adj_expected_regions.explode('cor_region')\n",
        "print(exp_long.shape)"
      ],
      "execution_count": 5,
      "outputs": [
        {
          "output_type": "stream",
          "name": "stdout",
          "text": [
            "(41, 3)\n"
          ]
        }
      ]
    },
    {
      "cell_type": "code",
      "metadata": {
        "id": "zKPf2iQZ1yqd",
        "colab": {
          "base_uri": "https://localhost:8080/",
          "height": 343
        },
        "outputId": "6473823e-5b8a-4ddb-8f70-aeba16dec6e4"
      },
      "source": [
        "### JUST TESTING, DONT RUN\n",
        "organisation_structure_dataframe = {'region_name': ['Not in use', 'pre-checkin', 'waiting checkin', 'checkin main', 'waiting', 'doctor table', 'vaccination', 'waiting II', 'checkout', 'waiting III'], \\\n",
        "'flow_id': [0, 1, 2, 3, 4, 5, 6, 7, 8, 9],\\\n",
        "'beacons': [\"Beacon_271\",\"Beacon_257\",\"Beacon_256\",\"Beacon_255\",\"Beacon_254\",\"Beacon_253\"], [], [\"Beacon_206\",\"Beacon_207\",\"Beacon_208\",\"Beacon_209\",\"Beacon_210\"], [], \\\n",
        "[\"Beacon_211\",\"Beacon_212\",\"Beacon_213\",\"Beacon_214\",\"Beacon_215\",\"Beacon_216\",\"Beacon_217\",\"Beacon_218\",\"Beacon_219\",\"Beacon_220\"], \\\n",
        "[\"Beacon_221\",\"Beacon_222\",\"Beacon_223\",\"Beacon_224\",\"Beacon_225\",\"Beacon_226\",\"Beacon_227\",\"Beacon_228\",\"Beacon_229\",\\\n",
        " \"Beacon_230\",\"Beacon_231\",\"Beacon_232\",\"Beacon_233\",\"Beacon_234\",\"Beacon_235\",\"Beacon_236\",\"Beacon_237\",\"Beacon_238\",\"Beacon_239\",\"Beacon_240\"], \\\n",
        " [], [\"Beacon_241\",\"Beacon_242\",\"Beacon_243\",\"Beacon_244\",\"Beacon_245\",\"Beacon_246\",\"Beacon_247\",\"Beacon_248\",\"Beacon_249\",\"Beacon_250\",\"Beacon_251\",\"Beacon_272\"], []}\n",
        "\n",
        "\n",
        "adj_expected_regions = pd.DataFrame.from_dict(data=adj_expected_flow)\n",
        "#print(expected_regions)"
      ],
      "execution_count": null,
      "outputs": [
        {
          "output_type": "error",
          "ename": "SyntaxError",
          "evalue": "ignored",
          "traceback": [
            "\u001b[0;36m  File \u001b[0;32m\"<ipython-input-6-891715a22fb3>\"\u001b[0;36m, line \u001b[0;32m1\u001b[0m\n\u001b[0;31m    organisation_structure_dataframe = {'region_name': ['Not in use', 'pre-checkin', 'waiting checkin', 'checkin main', 'waiting', 'doctor table', 'vaccination', 'waiting II', 'checkout', 'waiting III'], 'flow_id': [0, 1, 2, 3, 4, 5, 6, 7, 8, 9],'beacons': [\"Beacon_271\",\"Beacon_257\",\"Beacon_256\",\"Beacon_255\",\"Beacon_254\",\"Beacon_253\"], [], [\"Beacon_206\",\"Beacon_207\",\"Beacon_208\",\"Beacon_209\",\"Beacon_210\"], [], [\"Beacon_211\",\"Beacon_212\",\"Beacon_213\",\"Beacon_214\",\"Beacon_215\",\"Beacon_216\",\"Beacon_217\",\"Beacon_218\",\"Beacon_219\",\"Beacon_220\"], [\"Beacon_221\",\"Beacon_222\",\"Beacon_223\",\"Beacon_224\",\"Beacon_225\",\"Beacon_226\",\"Beacon_227\",\"Beacon_228\",\"Beacon_229\", \"Beacon_230\",\"Beacon_231\",\"Beacon_232\",\"Beacon_233\",\"Beacon_234\",\"Beacon_235\",\"Beacon_236\",\"Beacon_237\",\"Beacon_238\",\"Beacon_239\",\"Beacon_240\"],  [], [\"Beacon_241\",\"Beacon_242\",\"Beacon_243\",\"Beacon_244\",\"Beacon_245\",\"Beacon_246\",\"Beacon_247\",\"Beacon_248\",\"Beacon_249\",\"Beacon_250\",\"Beacon_251\",\"Beacon_272\"], []}\u001b[0m\n\u001b[0m                                                                                                                                                                                                                                                                                                                                                    ^\u001b[0m\n\u001b[0;31mSyntaxError\u001b[0m\u001b[0;31m:\u001b[0m invalid syntax\n"
          ]
        }
      ]
    },
    {
      "cell_type": "code",
      "metadata": {
        "id": "hlssqTpsoO8_",
        "colab": {
          "base_uri": "https://localhost:8080/"
        },
        "outputId": "f197407c-263a-45c2-87be-457c2a951dea"
      },
      "source": [
        "# CORRECTION: used the adjusted flow now\n",
        "\n",
        "data_merged_new = data_merged.merge(adj_exp_long, left_on='region_id', right_on='cor_region')\n",
        "data_merged_new['flow_beacon'] = data_merged_new['flow_id'].astype(str) + \"_\" + data_merged_new['beacon_id'].astype(str)\n",
        "data_merged_new.drop('cor_region', axis=1, inplace=True)\n",
        "\n",
        "print(data_merged_new)"
      ],
      "execution_count": 6,
      "outputs": [
        {
          "output_type": "stream",
          "name": "stdout",
          "text": [
            "    beacon_id   b_pos_x   b_pos_y  ... flow_region_name flow_id  flow_beacon\n",
            "0         226  0.727975  0.644562  ...      vaccination       6        6_226\n",
            "1         225  0.727975  0.687666  ...      vaccination       6        6_225\n",
            "2         215  0.660764  0.545243  ...     doctor table       5        5_215\n",
            "3         245  0.857265  0.525199  ...         checkout       8        8_245\n",
            "4         260  0.354315  0.981687  ...       Not in use       0        0_260\n",
            "..        ...       ...       ...  ...              ...     ...          ...\n",
            "56        244  0.857265  0.494032  ...         checkout       8        8_244\n",
            "57        219  0.665982  0.307433  ...     doctor table       5        5_219\n",
            "58        218  0.667114  0.368246  ...     doctor table       5        5_218\n",
            "59        220  0.664094  0.243120  ...     doctor table       5        5_220\n",
            "60        212  0.658793  0.716634  ...     doctor table       5        5_212\n",
            "\n",
            "[61 rows x 13 columns]\n"
          ]
        }
      ]
    },
    {
      "cell_type": "markdown",
      "metadata": {
        "id": "6lNtdi1ZKfcZ"
      },
      "source": [
        "Create a df with the flow regions and the corresponding beacons"
      ]
    },
    {
      "cell_type": "code",
      "metadata": {
        "colab": {
          "base_uri": "https://localhost:8080/"
        },
        "id": "l4cznn-QoRbL",
        "outputId": "42344ba1-8020-4abf-bca3-12b130850e78"
      },
      "source": [
        "multi_col_flow = data_merged_new.loc[:, ['beacon_id', 'flow_id']] #only the beacon and flow region ids are relevant here\n",
        "multi_col_flow.sort_values(by = ['flow_id', 'beacon_id'], inplace=True)\n",
        "multi_col_flow = multi_col_flow[['flow_id', 'beacon_id']] #change order of the columns\n",
        "print(multi_col_flow)"
      ],
      "execution_count": 7,
      "outputs": [
        {
          "output_type": "stream",
          "name": "stdout",
          "text": [
            "    flow_id  beacon_id\n",
            "9         0        201\n",
            "6         0        202\n",
            "5         0        203\n",
            "8         0        258\n",
            "7         0        259\n",
            "..      ...        ...\n",
            "53        8        248\n",
            "43        8        249\n",
            "26        8        250\n",
            "51        8        251\n",
            "25        8        272\n",
            "\n",
            "[61 rows x 2 columns]\n"
          ]
        }
      ]
    },
    {
      "cell_type": "code",
      "metadata": {
        "colab": {
          "base_uri": "https://localhost:8080/"
        },
        "id": "6WN340H-oaEG",
        "outputId": "19366121-ed98-4650-de9b-f93a6ba76c99"
      },
      "source": [
        "#############HERE#############\n",
        "\n",
        "# get tuples from region+beacon in order to use pd.MultiIndex.from_tuples\n",
        "\n",
        "multi_col_flow_records = multi_col_flow.to_records(index=False)\n",
        "multi_col_flow_tuple = list(multi_col_flow_records)\n",
        "print(multi_col_flow_tuple)\n",
        "\n",
        "# sort the tuple by beacon ids\n",
        "multi_col_flow_tuple.sort(key=lambda tup: tup[1]) \n",
        "print(multi_col_flow_tuple)"
      ],
      "execution_count": 8,
      "outputs": [
        {
          "output_type": "stream",
          "name": "stdout",
          "text": [
            "[(0, 201), (0, 202), (0, 203), (0, 258), (0, 259), (0, 260), (1, 253), (1, 254), (1, 255), (1, 256), (1, 257), (1, 271), (3, 204), (3, 205), (3, 206), (3, 207), (3, 208), (3, 209), (3, 210), (5, 211), (5, 212), (5, 213), (5, 214), (5, 215), (5, 216), (5, 217), (5, 218), (5, 219), (5, 220), (6, 221), (6, 222), (6, 223), (6, 224), (6, 225), (6, 226), (6, 227), (6, 228), (6, 229), (6, 230), (6, 231), (6, 232), (6, 233), (6, 234), (6, 235), (6, 236), (6, 237), (6, 238), (6, 239), (6, 240), (8, 241), (8, 242), (8, 243), (8, 244), (8, 245), (8, 246), (8, 247), (8, 248), (8, 249), (8, 250), (8, 251), (8, 272)]\n",
            "[(0, 201), (0, 202), (0, 203), (3, 204), (3, 205), (3, 206), (3, 207), (3, 208), (3, 209), (3, 210), (5, 211), (5, 212), (5, 213), (5, 214), (5, 215), (5, 216), (5, 217), (5, 218), (5, 219), (5, 220), (6, 221), (6, 222), (6, 223), (6, 224), (6, 225), (6, 226), (6, 227), (6, 228), (6, 229), (6, 230), (6, 231), (6, 232), (6, 233), (6, 234), (6, 235), (6, 236), (6, 237), (6, 238), (6, 239), (6, 240), (8, 241), (8, 242), (8, 243), (8, 244), (8, 245), (8, 246), (8, 247), (8, 248), (8, 249), (8, 250), (8, 251), (1, 253), (1, 254), (1, 255), (1, 256), (1, 257), (0, 258), (0, 259), (0, 260), (1, 271), (8, 272)]\n"
          ]
        }
      ]
    },
    {
      "cell_type": "markdown",
      "metadata": {
        "id": "ua_gIvE9nsvx"
      },
      "source": [
        "# Beacon data"
      ]
    },
    {
      "cell_type": "code",
      "metadata": {
        "id": "Y742pvbMeMbu"
      },
      "source": [
        "import pickle #to extract the pickle file\n",
        "import matplotlib.pyplot as plt\n",
        "import numpy as np #to work with numpy arrays like rssi_arr\n",
        "import pandas as pd\n",
        "from pandas.core.indexes.base import Index #to create dataframes\n",
        "import seaborn as sns #make visualisation with df´s"
      ],
      "execution_count": 9,
      "outputs": []
    },
    {
      "cell_type": "code",
      "metadata": {
        "id": "dbnDfRP0eUO_"
      },
      "source": [
        "def extract_rssi_to_df(folderpath):\n",
        "    \"\"\" Takes path from pickle file and create a df with a timeline and the rssi_arr values \"\"\"\n",
        "    #create a dataframe df from the picke.file\n",
        "    df_file = pickle.load(open( folderpath, \"rb\" ) )\n",
        "\n",
        "    #extract rssi_arr key to numpy.array\n",
        "    rssi_arr=df_file[\"rssi_arr\"]\n",
        "    \n",
        "    #set -inf equal to 0 (datacleaning)\n",
        "    rssi_arr[rssi_arr == -np.Inf] = np.nan\n",
        "\n",
        "    #figure out the shape from rssi_arr array for the timeline\n",
        "    dim=np.shape(rssi_arr)\n",
        "\n",
        "    #create a timeline and add it to the rssi_arr array\n",
        "    timeline=np.linspace(0.1, (dim[0])*0.1, dim[0]).reshape(dim[0],1) #problem that it changes from 0091 file to others why?\n",
        "    mod_rssi_arr = np.append(rssi_arr, timeline, axis = 1)\n",
        "\n",
        "    #create the colum_names for df_rssi_arr (dataframe)\n",
        "    ##colum_names=[]\n",
        "    ##for i in range(1,dim[1]+1):\n",
        "        ##value=\"Beacon_\" + str(200+i)\n",
        "        ##colum_names.append(value)\n",
        "    ##colum_names.append(\"timeline[s]\")\n",
        "\n",
        "    # beacon id as column\n",
        "    df_beacon_id = df_file['beacon_uuids']\n",
        "    df_beacon_id = np.append(df_beacon_id, \"timeline[s]\")\n",
        "\n",
        "    #create df_rssi_arr \n",
        "    df_rssi_arr= pd.DataFrame(data=mod_rssi_arr,columns=df_beacon_id)\n",
        "    df=df_rssi_arr.set_index(\"timeline[s]\")\n",
        "    return df"
      ],
      "execution_count": 10,
      "outputs": []
    },
    {
      "cell_type": "code",
      "metadata": {
        "colab": {
          "base_uri": "https://localhost:8080/"
        },
        "id": "Fp7u5tRPeXXn",
        "outputId": "cd697ebf-15df-4cfb-fbcb-66e59265216f"
      },
      "source": [
        "Path1=\"/content/drive/MyDrive/Project: MotionMiners/Data/MMTS_00091_1620884436927.bin_beacon_data.pickle\"          #Pfad anpassen falls andere damit arbeiten\n",
        "MMTS_00091_1620884436927=extract_rssi_to_df(Path1)\n",
        "print(\"MMTS_00091_1620884436927:\")\n",
        "print(MMTS_00091_1620884436927)"
      ],
      "execution_count": 11,
      "outputs": [
        {
          "output_type": "stream",
          "name": "stdout",
          "text": [
            "MMTS_00091_1620884436927:\n",
            "              201   202   203  204  205  206  ...   270  271  272   273   274   275\n",
            "timeline[s]                                   ...                                  \n",
            "0.1         -74.0   NaN -50.0  NaN  NaN  NaN  ... -61.0  NaN  NaN -65.0 -61.0 -62.0\n",
            "0.2         -74.0 -47.0 -50.0  NaN  NaN  NaN  ... -61.0  NaN  NaN -65.0 -61.0 -62.0\n",
            "0.3         -74.0 -47.0 -50.0  NaN  NaN  NaN  ... -61.0  NaN  NaN -65.0 -61.0 -62.0\n",
            "0.4         -74.0 -47.0 -50.0  NaN  NaN  NaN  ... -61.0  NaN  NaN -65.0 -61.0 -62.0\n",
            "0.5         -48.0 -47.0 -50.0  NaN  NaN  NaN  ... -61.0  NaN  NaN -65.0 -60.0 -60.0\n",
            "...           ...   ...   ...  ...  ...  ...  ...   ...  ...  ...   ...   ...   ...\n",
            "42119.2     -61.0 -67.0 -64.0  NaN  NaN  NaN  ... -78.0  NaN  NaN -80.0 -76.0 -72.0\n",
            "42119.3     -62.0 -64.0 -62.0  NaN  NaN  NaN  ... -73.0  NaN  NaN -80.0 -72.0 -72.0\n",
            "42119.4     -62.0 -64.0 -62.0  NaN  NaN  NaN  ... -73.0  NaN  NaN -80.0 -72.0 -72.0\n",
            "42119.5     -62.0 -64.0 -62.0  NaN  NaN  NaN  ... -73.0  NaN  NaN -82.0 -72.0 -72.0\n",
            "42119.6     -62.0 -64.0 -62.0  NaN  NaN  NaN  ...   NaN  NaN  NaN -82.0 -72.0   NaN\n",
            "\n",
            "[421196 rows x 74 columns]\n"
          ]
        }
      ]
    },
    {
      "cell_type": "markdown",
      "metadata": {
        "id": "0oP3mWYMtQkp"
      },
      "source": [
        "# Dataframe with multi column\n",
        "\n",
        "- compare the beacon ids\n",
        "- delete unimportant columns\n",
        "- use pd.MultiIndex.from_tuples"
      ]
    },
    {
      "cell_type": "code",
      "metadata": {
        "colab": {
          "base_uri": "https://localhost:8080/"
        },
        "id": "ZmtGD1oBHT7K",
        "outputId": "19b9c07c-23f6-491a-b609-717b57776809"
      },
      "source": [
        "# find all beacon ids that were not used\n",
        " \n",
        "idint = MMTS_00091_1620884436927.columns.values.astype(int) # need to change column label type to integer; idint -> (beacon) id int(eger)\n",
        "not_used_ids = []\n",
        "\n",
        "for i in idint:\n",
        "  if i not in list(multi_col_flow['beacon_id']):\n",
        "    not_used_ids.append(i)\n",
        "\n",
        "print(not_used_ids)"
      ],
      "execution_count": 12,
      "outputs": [
        {
          "output_type": "stream",
          "name": "stdout",
          "text": [
            "[261, 262, 263, 264, 265, 266, 267, 268, 269, 270, 273, 274, 275]\n"
          ]
        }
      ]
    },
    {
      "cell_type": "code",
      "metadata": {
        "colab": {
          "base_uri": "https://localhost:8080/"
        },
        "id": "3EN7tvWAJTC3",
        "outputId": "13d7a918-fed4-41e2-e899-53a8b62d60ef"
      },
      "source": [
        "#delete the columns of the beacons that were not used\n",
        "\n",
        "MMTS_00091_1620884436927.columns = MMTS_00091_1620884436927.columns.map(int) # need to change column label type to integer \n",
        "MMTS_00091_1620884436927 = MMTS_00091_1620884436927.drop(not_used_ids, axis=1)\n",
        "\n",
        "print(MMTS_00091_1620884436927.columns.values)"
      ],
      "execution_count": 13,
      "outputs": [
        {
          "output_type": "stream",
          "name": "stdout",
          "text": [
            "[201 202 203 204 205 206 207 208 209 210 211 212 213 214 215 216 217 218\n",
            " 219 220 221 222 223 224 225 226 227 228 229 230 231 232 233 234 235 236\n",
            " 237 238 239 240 241 242 243 244 245 246 247 248 249 250 251 253 254 255\n",
            " 256 257 258 259 260 271 272]\n"
          ]
        }
      ]
    },
    {
      "cell_type": "code",
      "metadata": {
        "colab": {
          "base_uri": "https://localhost:8080/"
        },
        "id": "0ycUU8RQKEri",
        "outputId": "6749da8e-e396-442e-a19d-abb361014e78"
      },
      "source": [
        "# Creating the MultiIndex\n",
        "MMTS_00091_1620884436927.columns = pd.MultiIndex.from_tuples(multi_col_flow_tuple, names =('Flow', 'Beacon'))\n",
        "  \n",
        "# Print the MultiIndex\n",
        "print(MMTS_00091_1620884436927)"
      ],
      "execution_count": 14,
      "outputs": [
        {
          "output_type": "stream",
          "name": "stdout",
          "text": [
            "Flow            0               3              ...   1         0               1   8\n",
            "Beacon        201   202   203 204 205 206 207  ... 256 257   258   259   260 271 272\n",
            "timeline[s]                                    ...                                  \n",
            "0.1         -74.0   NaN -50.0 NaN NaN NaN NaN  ... NaN NaN -57.0 -71.0 -73.0 NaN NaN\n",
            "0.2         -74.0 -47.0 -50.0 NaN NaN NaN NaN  ... NaN NaN -57.0 -71.0 -73.0 NaN NaN\n",
            "0.3         -74.0 -47.0 -50.0 NaN NaN NaN NaN  ... NaN NaN -57.0 -71.0 -73.0 NaN NaN\n",
            "0.4         -74.0 -47.0 -50.0 NaN NaN NaN NaN  ... NaN NaN -57.0 -71.0 -73.0 NaN NaN\n",
            "0.5         -48.0 -47.0 -50.0 NaN NaN NaN NaN  ... NaN NaN -57.0 -57.0 -73.0 NaN NaN\n",
            "...           ...   ...   ...  ..  ..  ..  ..  ...  ..  ..   ...   ...   ...  ..  ..\n",
            "42119.2     -61.0 -67.0 -64.0 NaN NaN NaN NaN  ... NaN NaN -62.0 -59.0 -50.0 NaN NaN\n",
            "42119.3     -62.0 -64.0 -62.0 NaN NaN NaN NaN  ... NaN NaN -65.0 -58.0 -53.0 NaN NaN\n",
            "42119.4     -62.0 -64.0 -62.0 NaN NaN NaN NaN  ... NaN NaN -65.0 -58.0 -53.0 NaN NaN\n",
            "42119.5     -62.0 -64.0 -62.0 NaN NaN NaN NaN  ... NaN NaN   NaN -54.0 -53.0 NaN NaN\n",
            "42119.6     -62.0 -64.0 -62.0 NaN NaN NaN NaN  ... NaN NaN   NaN -54.0   NaN NaN NaN\n",
            "\n",
            "[421196 rows x 61 columns]\n"
          ]
        }
      ]
    },
    {
      "cell_type": "code",
      "metadata": {
        "colab": {
          "base_uri": "https://localhost:8080/"
        },
        "id": "sDGSBJbiOrF0",
        "outputId": "17da777d-0973-4b4f-f34f-bf7ce694edd6"
      },
      "source": [
        "#############HERE#############\n",
        "\n",
        "MMTS_00091_1620884436927 = MMTS_00091_1620884436927[np.sort(MMTS_00091_1620884436927.columns)]\n",
        "\n",
        "print(MMTS_00091_1620884436927[np.sort(MMTS_00091_1620884436927.columns)])"
      ],
      "execution_count": 15,
      "outputs": [
        {
          "output_type": "stream",
          "name": "stdout",
          "text": [
            "Flow            0                                 1  ...   8                        \n",
            "Beacon        201   202   203   258   259   260 253  ... 246 247 248 249 250 251 272\n",
            "timeline[s]                                          ...                            \n",
            "0.1         -74.0   NaN -50.0 -57.0 -71.0 -73.0 NaN  ... NaN NaN NaN NaN NaN NaN NaN\n",
            "0.2         -74.0 -47.0 -50.0 -57.0 -71.0 -73.0 NaN  ... NaN NaN NaN NaN NaN NaN NaN\n",
            "0.3         -74.0 -47.0 -50.0 -57.0 -71.0 -73.0 NaN  ... NaN NaN NaN NaN NaN NaN NaN\n",
            "0.4         -74.0 -47.0 -50.0 -57.0 -71.0 -73.0 NaN  ... NaN NaN NaN NaN NaN NaN NaN\n",
            "0.5         -48.0 -47.0 -50.0 -57.0 -57.0 -73.0 NaN  ... NaN NaN NaN NaN NaN NaN NaN\n",
            "...           ...   ...   ...   ...   ...   ...  ..  ...  ..  ..  ..  ..  ..  ..  ..\n",
            "42119.2     -61.0 -67.0 -64.0 -62.0 -59.0 -50.0 NaN  ... NaN NaN NaN NaN NaN NaN NaN\n",
            "42119.3     -62.0 -64.0 -62.0 -65.0 -58.0 -53.0 NaN  ... NaN NaN NaN NaN NaN NaN NaN\n",
            "42119.4     -62.0 -64.0 -62.0 -65.0 -58.0 -53.0 NaN  ... NaN NaN NaN NaN NaN NaN NaN\n",
            "42119.5     -62.0 -64.0 -62.0   NaN -54.0 -53.0 NaN  ... NaN NaN NaN NaN NaN NaN NaN\n",
            "42119.6     -62.0 -64.0 -62.0   NaN -54.0   NaN NaN  ... NaN NaN NaN NaN NaN NaN NaN\n",
            "\n",
            "[421196 rows x 61 columns]\n"
          ]
        }
      ]
    },
    {
      "cell_type": "code",
      "metadata": {
        "colab": {
          "base_uri": "https://localhost:8080/"
        },
        "id": "UoWVGLcJGHPl",
        "outputId": "fffe82d3-ec47-405b-d476-563faa62718a"
      },
      "source": [
        "print(MMTS_00091_1620884436927.loc[:,1].max())"
      ],
      "execution_count": null,
      "outputs": [
        {
          "output_type": "stream",
          "text": [
            "Beacon\n",
            "253   -56.0\n",
            "254   -55.0\n",
            "255   -46.0\n",
            "256   -52.0\n",
            "257   -49.0\n",
            "271   -60.0\n",
            "dtype: float64\n"
          ],
          "name": "stdout"
        }
      ]
    },
    {
      "cell_type": "code",
      "metadata": {
        "colab": {
          "base_uri": "https://localhost:8080/"
        },
        "id": "CilsnJePQ7kT",
        "outputId": "cfa861d9-5fe3-4be4-bc96-09ed62847fce"
      },
      "source": [
        "print(MMTS_00091_1620884436927.loc[:,1].min())"
      ],
      "execution_count": null,
      "outputs": [
        {
          "output_type": "stream",
          "text": [
            "Beacon\n",
            "253   -91.0\n",
            "254   -91.0\n",
            "255   -90.0\n",
            "256   -90.0\n",
            "257   -91.0\n",
            "271   -92.0\n",
            "dtype: float64\n"
          ],
          "name": "stdout"
        }
      ]
    },
    {
      "cell_type": "markdown",
      "metadata": {
        "id": "jRoKJtlgzH9f"
      },
      "source": [
        "# Analysis to find out how many persons used this tracer"
      ]
    },
    {
      "cell_type": "code",
      "metadata": {
        "colab": {
          "base_uri": "https://localhost:8080/"
        },
        "id": "hP-59TqVzOGh",
        "outputId": "114ea940-fb0e-4742-dde0-cffac6840efd"
      },
      "source": [
        "print(print(MMTS_00091_1620884436927.iloc[1,:].idxmax(axis=1)))"
      ],
      "execution_count": null,
      "outputs": [
        {
          "output_type": "stream",
          "text": [
            "(1, 202)\n",
            "None\n"
          ],
          "name": "stdout"
        }
      ]
    },
    {
      "cell_type": "code",
      "metadata": {
        "id": "q-_m9DNz2Usf"
      },
      "source": [
        "#for index, value in MMTS_00091_1620884436927[1].iterrows():\n",
        "#  print(index, value)"
      ],
      "execution_count": null,
      "outputs": []
    },
    {
      "cell_type": "markdown",
      "metadata": {
        "id": "SrFd3CC9xge-"
      },
      "source": [
        "# Saving df as separate file"
      ]
    },
    {
      "cell_type": "code",
      "metadata": {
        "id": "rJbiINDYxfpu"
      },
      "source": [
        "# csv data\n",
        "MMTS_00091_1620884436927.to_csv(r'/content/drive/MyDrive/MM Project/Data/tracer_91.csv')"
      ],
      "execution_count": null,
      "outputs": []
    },
    {
      "cell_type": "code",
      "metadata": {
        "id": "WjYDwe4daAxw"
      },
      "source": [
        "#############HERE#############\n",
        "# pickle data\n",
        "\n",
        "MMTS_00091_1620884436927.to_pickle('/content/drive/MyDrive/MM Project/Data/tracer_91.pickle')"
      ],
      "execution_count": null,
      "outputs": []
    },
    {
      "cell_type": "markdown",
      "metadata": {
        "id": "mrBcaKpwOaZ_"
      },
      "source": [
        "TO DO"
      ]
    },
    {
      "cell_type": "code",
      "metadata": {
        "id": "P0vjkUCIx2ng"
      },
      "source": [
        "# saving with a function\n",
        "\n",
        "def save_dfs_cvs(df_name):\n",
        "  df_name.to_csv(r'/content/drive/MyDrive/PM Project (PRIVATE)/Data/') #add name for data file "
      ],
      "execution_count": null,
      "outputs": []
    },
    {
      "cell_type": "markdown",
      "metadata": {
        "id": "kaVlS9bHtItp"
      },
      "source": [
        "# Graph"
      ]
    },
    {
      "cell_type": "code",
      "metadata": {
        "colab": {
          "base_uri": "https://localhost:8080/",
          "height": 567
        },
        "id": "XKMZ0ImueZ02",
        "outputId": "47477c74-43b8-4bd7-925e-fda39702ba85"
      },
      "source": [
        "## funktioniert leider nach meinen Änderungen nicht mehr?\n",
        "\n",
        "y=\"272\"\n",
        "MMTS_00091_1620884436927.loc[MMTS_00091_1620884436927[y] == 0,y]=np.nan\n",
        "print(MMTS_00091_1620884436927[y])\n",
        "sns.relplot(x=\"timeline[s]\",y=y,data=MMTS_00091_1620884436927,kind=\"scatter\")\n",
        "plt.show()"
      ],
      "execution_count": null,
      "outputs": [
        {
          "output_type": "error",
          "ename": "KeyError",
          "evalue": "ignored",
          "traceback": [
            "\u001b[0;31m---------------------------------------------------------------------------\u001b[0m",
            "\u001b[0;31mKeyError\u001b[0m                                  Traceback (most recent call last)",
            "\u001b[0;32m/usr/local/lib/python3.7/dist-packages/pandas/core/indexes/base.py\u001b[0m in \u001b[0;36mget_loc\u001b[0;34m(self, key, method, tolerance)\u001b[0m\n\u001b[1;32m   2897\u001b[0m             \u001b[0;32mtry\u001b[0m\u001b[0;34m:\u001b[0m\u001b[0;34m\u001b[0m\u001b[0;34m\u001b[0m\u001b[0m\n\u001b[0;32m-> 2898\u001b[0;31m                 \u001b[0;32mreturn\u001b[0m \u001b[0mself\u001b[0m\u001b[0;34m.\u001b[0m\u001b[0m_engine\u001b[0m\u001b[0;34m.\u001b[0m\u001b[0mget_loc\u001b[0m\u001b[0;34m(\u001b[0m\u001b[0mcasted_key\u001b[0m\u001b[0;34m)\u001b[0m\u001b[0;34m\u001b[0m\u001b[0;34m\u001b[0m\u001b[0m\n\u001b[0m\u001b[1;32m   2899\u001b[0m             \u001b[0;32mexcept\u001b[0m \u001b[0mKeyError\u001b[0m \u001b[0;32mas\u001b[0m \u001b[0merr\u001b[0m\u001b[0;34m:\u001b[0m\u001b[0;34m\u001b[0m\u001b[0;34m\u001b[0m\u001b[0m\n",
            "\u001b[0;32mpandas/_libs/index.pyx\u001b[0m in \u001b[0;36mpandas._libs.index.IndexEngine.get_loc\u001b[0;34m()\u001b[0m\n",
            "\u001b[0;32mpandas/_libs/index.pyx\u001b[0m in \u001b[0;36mpandas._libs.index.IndexEngine.get_loc\u001b[0;34m()\u001b[0m\n",
            "\u001b[0;32mpandas/_libs/index_class_helper.pxi\u001b[0m in \u001b[0;36mpandas._libs.index.Int64Engine._check_type\u001b[0;34m()\u001b[0m\n",
            "\u001b[0;31mKeyError\u001b[0m: '272'",
            "\nThe above exception was the direct cause of the following exception:\n",
            "\u001b[0;31mKeyError\u001b[0m                                  Traceback (most recent call last)",
            "\u001b[0;32m<ipython-input-139-8637a3b95e3e>\u001b[0m in \u001b[0;36m<module>\u001b[0;34m()\u001b[0m\n\u001b[1;32m      2\u001b[0m \u001b[0;34m\u001b[0m\u001b[0m\n\u001b[1;32m      3\u001b[0m \u001b[0my\u001b[0m\u001b[0;34m=\u001b[0m\u001b[0;34m\"272\"\u001b[0m\u001b[0;34m\u001b[0m\u001b[0;34m\u001b[0m\u001b[0m\n\u001b[0;32m----> 4\u001b[0;31m \u001b[0mMMTS_00091_1620884436927\u001b[0m\u001b[0;34m.\u001b[0m\u001b[0mloc\u001b[0m\u001b[0;34m[\u001b[0m\u001b[0mMMTS_00091_1620884436927\u001b[0m\u001b[0;34m[\u001b[0m\u001b[0my\u001b[0m\u001b[0;34m]\u001b[0m \u001b[0;34m==\u001b[0m \u001b[0;36m0\u001b[0m\u001b[0;34m,\u001b[0m\u001b[0my\u001b[0m\u001b[0;34m]\u001b[0m\u001b[0;34m=\u001b[0m\u001b[0mnp\u001b[0m\u001b[0;34m.\u001b[0m\u001b[0mnan\u001b[0m\u001b[0;34m\u001b[0m\u001b[0;34m\u001b[0m\u001b[0m\n\u001b[0m\u001b[1;32m      5\u001b[0m \u001b[0mprint\u001b[0m\u001b[0;34m(\u001b[0m\u001b[0mMMTS_00091_1620884436927\u001b[0m\u001b[0;34m[\u001b[0m\u001b[0my\u001b[0m\u001b[0;34m]\u001b[0m\u001b[0;34m)\u001b[0m\u001b[0;34m\u001b[0m\u001b[0;34m\u001b[0m\u001b[0m\n\u001b[1;32m      6\u001b[0m \u001b[0msns\u001b[0m\u001b[0;34m.\u001b[0m\u001b[0mrelplot\u001b[0m\u001b[0;34m(\u001b[0m\u001b[0mx\u001b[0m\u001b[0;34m=\u001b[0m\u001b[0;34m\"timeline[s]\"\u001b[0m\u001b[0;34m,\u001b[0m\u001b[0my\u001b[0m\u001b[0;34m=\u001b[0m\u001b[0my\u001b[0m\u001b[0;34m,\u001b[0m\u001b[0mdata\u001b[0m\u001b[0;34m=\u001b[0m\u001b[0mMMTS_00091_1620884436927\u001b[0m\u001b[0;34m,\u001b[0m\u001b[0mkind\u001b[0m\u001b[0;34m=\u001b[0m\u001b[0;34m\"scatter\"\u001b[0m\u001b[0;34m)\u001b[0m\u001b[0;34m\u001b[0m\u001b[0;34m\u001b[0m\u001b[0m\n",
            "\u001b[0;32m/usr/local/lib/python3.7/dist-packages/pandas/core/frame.py\u001b[0m in \u001b[0;36m__getitem__\u001b[0;34m(self, key)\u001b[0m\n\u001b[1;32m   2903\u001b[0m         \u001b[0;32mif\u001b[0m \u001b[0mis_single_key\u001b[0m\u001b[0;34m:\u001b[0m\u001b[0;34m\u001b[0m\u001b[0;34m\u001b[0m\u001b[0m\n\u001b[1;32m   2904\u001b[0m             \u001b[0;32mif\u001b[0m \u001b[0mself\u001b[0m\u001b[0;34m.\u001b[0m\u001b[0mcolumns\u001b[0m\u001b[0;34m.\u001b[0m\u001b[0mnlevels\u001b[0m \u001b[0;34m>\u001b[0m \u001b[0;36m1\u001b[0m\u001b[0;34m:\u001b[0m\u001b[0;34m\u001b[0m\u001b[0;34m\u001b[0m\u001b[0m\n\u001b[0;32m-> 2905\u001b[0;31m                 \u001b[0;32mreturn\u001b[0m \u001b[0mself\u001b[0m\u001b[0;34m.\u001b[0m\u001b[0m_getitem_multilevel\u001b[0m\u001b[0;34m(\u001b[0m\u001b[0mkey\u001b[0m\u001b[0;34m)\u001b[0m\u001b[0;34m\u001b[0m\u001b[0;34m\u001b[0m\u001b[0m\n\u001b[0m\u001b[1;32m   2906\u001b[0m             \u001b[0mindexer\u001b[0m \u001b[0;34m=\u001b[0m \u001b[0mself\u001b[0m\u001b[0;34m.\u001b[0m\u001b[0mcolumns\u001b[0m\u001b[0;34m.\u001b[0m\u001b[0mget_loc\u001b[0m\u001b[0;34m(\u001b[0m\u001b[0mkey\u001b[0m\u001b[0;34m)\u001b[0m\u001b[0;34m\u001b[0m\u001b[0;34m\u001b[0m\u001b[0m\n\u001b[1;32m   2907\u001b[0m             \u001b[0;32mif\u001b[0m \u001b[0mis_integer\u001b[0m\u001b[0;34m(\u001b[0m\u001b[0mindexer\u001b[0m\u001b[0;34m)\u001b[0m\u001b[0;34m:\u001b[0m\u001b[0;34m\u001b[0m\u001b[0;34m\u001b[0m\u001b[0m\n",
            "\u001b[0;32m/usr/local/lib/python3.7/dist-packages/pandas/core/frame.py\u001b[0m in \u001b[0;36m_getitem_multilevel\u001b[0;34m(self, key)\u001b[0m\n\u001b[1;32m   2953\u001b[0m     \u001b[0;32mdef\u001b[0m \u001b[0m_getitem_multilevel\u001b[0m\u001b[0;34m(\u001b[0m\u001b[0mself\u001b[0m\u001b[0;34m,\u001b[0m \u001b[0mkey\u001b[0m\u001b[0;34m)\u001b[0m\u001b[0;34m:\u001b[0m\u001b[0;34m\u001b[0m\u001b[0;34m\u001b[0m\u001b[0m\n\u001b[1;32m   2954\u001b[0m         \u001b[0;31m# self.columns is a MultiIndex\u001b[0m\u001b[0;34m\u001b[0m\u001b[0;34m\u001b[0m\u001b[0;34m\u001b[0m\u001b[0m\n\u001b[0;32m-> 2955\u001b[0;31m         \u001b[0mloc\u001b[0m \u001b[0;34m=\u001b[0m \u001b[0mself\u001b[0m\u001b[0;34m.\u001b[0m\u001b[0mcolumns\u001b[0m\u001b[0;34m.\u001b[0m\u001b[0mget_loc\u001b[0m\u001b[0;34m(\u001b[0m\u001b[0mkey\u001b[0m\u001b[0;34m)\u001b[0m\u001b[0;34m\u001b[0m\u001b[0;34m\u001b[0m\u001b[0m\n\u001b[0m\u001b[1;32m   2956\u001b[0m         \u001b[0;32mif\u001b[0m \u001b[0misinstance\u001b[0m\u001b[0;34m(\u001b[0m\u001b[0mloc\u001b[0m\u001b[0;34m,\u001b[0m \u001b[0;34m(\u001b[0m\u001b[0mslice\u001b[0m\u001b[0;34m,\u001b[0m \u001b[0mnp\u001b[0m\u001b[0;34m.\u001b[0m\u001b[0mndarray\u001b[0m\u001b[0;34m)\u001b[0m\u001b[0;34m)\u001b[0m\u001b[0;34m:\u001b[0m\u001b[0;34m\u001b[0m\u001b[0;34m\u001b[0m\u001b[0m\n\u001b[1;32m   2957\u001b[0m             \u001b[0mnew_columns\u001b[0m \u001b[0;34m=\u001b[0m \u001b[0mself\u001b[0m\u001b[0;34m.\u001b[0m\u001b[0mcolumns\u001b[0m\u001b[0;34m[\u001b[0m\u001b[0mloc\u001b[0m\u001b[0;34m]\u001b[0m\u001b[0;34m\u001b[0m\u001b[0;34m\u001b[0m\u001b[0m\n",
            "\u001b[0;32m/usr/local/lib/python3.7/dist-packages/pandas/core/indexes/multi.py\u001b[0m in \u001b[0;36mget_loc\u001b[0;34m(self, key, method)\u001b[0m\n\u001b[1;32m   2702\u001b[0m \u001b[0;34m\u001b[0m\u001b[0m\n\u001b[1;32m   2703\u001b[0m         \u001b[0;32mif\u001b[0m \u001b[0;32mnot\u001b[0m \u001b[0misinstance\u001b[0m\u001b[0;34m(\u001b[0m\u001b[0mkey\u001b[0m\u001b[0;34m,\u001b[0m \u001b[0mtuple\u001b[0m\u001b[0;34m)\u001b[0m\u001b[0;34m:\u001b[0m\u001b[0;34m\u001b[0m\u001b[0;34m\u001b[0m\u001b[0m\n\u001b[0;32m-> 2704\u001b[0;31m             \u001b[0mloc\u001b[0m \u001b[0;34m=\u001b[0m \u001b[0mself\u001b[0m\u001b[0;34m.\u001b[0m\u001b[0m_get_level_indexer\u001b[0m\u001b[0;34m(\u001b[0m\u001b[0mkey\u001b[0m\u001b[0;34m,\u001b[0m \u001b[0mlevel\u001b[0m\u001b[0;34m=\u001b[0m\u001b[0;36m0\u001b[0m\u001b[0;34m)\u001b[0m\u001b[0;34m\u001b[0m\u001b[0;34m\u001b[0m\u001b[0m\n\u001b[0m\u001b[1;32m   2705\u001b[0m             \u001b[0;32mreturn\u001b[0m \u001b[0m_maybe_to_slice\u001b[0m\u001b[0;34m(\u001b[0m\u001b[0mloc\u001b[0m\u001b[0;34m)\u001b[0m\u001b[0;34m\u001b[0m\u001b[0;34m\u001b[0m\u001b[0m\n\u001b[1;32m   2706\u001b[0m \u001b[0;34m\u001b[0m\u001b[0m\n",
            "\u001b[0;32m/usr/local/lib/python3.7/dist-packages/pandas/core/indexes/multi.py\u001b[0m in \u001b[0;36m_get_level_indexer\u001b[0;34m(self, key, level, indexer)\u001b[0m\n\u001b[1;32m   2967\u001b[0m         \u001b[0;32melse\u001b[0m\u001b[0;34m:\u001b[0m\u001b[0;34m\u001b[0m\u001b[0;34m\u001b[0m\u001b[0m\n\u001b[1;32m   2968\u001b[0m \u001b[0;34m\u001b[0m\u001b[0m\n\u001b[0;32m-> 2969\u001b[0;31m             \u001b[0mcode\u001b[0m \u001b[0;34m=\u001b[0m \u001b[0mself\u001b[0m\u001b[0;34m.\u001b[0m\u001b[0m_get_loc_single_level_index\u001b[0m\u001b[0;34m(\u001b[0m\u001b[0mlevel_index\u001b[0m\u001b[0;34m,\u001b[0m \u001b[0mkey\u001b[0m\u001b[0;34m)\u001b[0m\u001b[0;34m\u001b[0m\u001b[0;34m\u001b[0m\u001b[0m\n\u001b[0m\u001b[1;32m   2970\u001b[0m \u001b[0;34m\u001b[0m\u001b[0m\n\u001b[1;32m   2971\u001b[0m             \u001b[0;32mif\u001b[0m \u001b[0mlevel\u001b[0m \u001b[0;34m>\u001b[0m \u001b[0;36m0\u001b[0m \u001b[0;32mor\u001b[0m \u001b[0mself\u001b[0m\u001b[0;34m.\u001b[0m\u001b[0mlexsort_depth\u001b[0m \u001b[0;34m==\u001b[0m \u001b[0;36m0\u001b[0m\u001b[0;34m:\u001b[0m\u001b[0;34m\u001b[0m\u001b[0;34m\u001b[0m\u001b[0m\n",
            "\u001b[0;32m/usr/local/lib/python3.7/dist-packages/pandas/core/indexes/multi.py\u001b[0m in \u001b[0;36m_get_loc_single_level_index\u001b[0;34m(self, level_index, key)\u001b[0m\n\u001b[1;32m   2635\u001b[0m             \u001b[0;32mreturn\u001b[0m \u001b[0;34m-\u001b[0m\u001b[0;36m1\u001b[0m\u001b[0;34m\u001b[0m\u001b[0;34m\u001b[0m\u001b[0m\n\u001b[1;32m   2636\u001b[0m         \u001b[0;32melse\u001b[0m\u001b[0;34m:\u001b[0m\u001b[0;34m\u001b[0m\u001b[0;34m\u001b[0m\u001b[0m\n\u001b[0;32m-> 2637\u001b[0;31m             \u001b[0;32mreturn\u001b[0m \u001b[0mlevel_index\u001b[0m\u001b[0;34m.\u001b[0m\u001b[0mget_loc\u001b[0m\u001b[0;34m(\u001b[0m\u001b[0mkey\u001b[0m\u001b[0;34m)\u001b[0m\u001b[0;34m\u001b[0m\u001b[0;34m\u001b[0m\u001b[0m\n\u001b[0m\u001b[1;32m   2638\u001b[0m \u001b[0;34m\u001b[0m\u001b[0m\n\u001b[1;32m   2639\u001b[0m     \u001b[0;32mdef\u001b[0m \u001b[0mget_loc\u001b[0m\u001b[0;34m(\u001b[0m\u001b[0mself\u001b[0m\u001b[0;34m,\u001b[0m \u001b[0mkey\u001b[0m\u001b[0;34m,\u001b[0m \u001b[0mmethod\u001b[0m\u001b[0;34m=\u001b[0m\u001b[0;32mNone\u001b[0m\u001b[0;34m)\u001b[0m\u001b[0;34m:\u001b[0m\u001b[0;34m\u001b[0m\u001b[0;34m\u001b[0m\u001b[0m\n",
            "\u001b[0;32m/usr/local/lib/python3.7/dist-packages/pandas/core/indexes/base.py\u001b[0m in \u001b[0;36mget_loc\u001b[0;34m(self, key, method, tolerance)\u001b[0m\n\u001b[1;32m   2898\u001b[0m                 \u001b[0;32mreturn\u001b[0m \u001b[0mself\u001b[0m\u001b[0;34m.\u001b[0m\u001b[0m_engine\u001b[0m\u001b[0;34m.\u001b[0m\u001b[0mget_loc\u001b[0m\u001b[0;34m(\u001b[0m\u001b[0mcasted_key\u001b[0m\u001b[0;34m)\u001b[0m\u001b[0;34m\u001b[0m\u001b[0;34m\u001b[0m\u001b[0m\n\u001b[1;32m   2899\u001b[0m             \u001b[0;32mexcept\u001b[0m \u001b[0mKeyError\u001b[0m \u001b[0;32mas\u001b[0m \u001b[0merr\u001b[0m\u001b[0;34m:\u001b[0m\u001b[0;34m\u001b[0m\u001b[0;34m\u001b[0m\u001b[0m\n\u001b[0;32m-> 2900\u001b[0;31m                 \u001b[0;32mraise\u001b[0m \u001b[0mKeyError\u001b[0m\u001b[0;34m(\u001b[0m\u001b[0mkey\u001b[0m\u001b[0;34m)\u001b[0m \u001b[0;32mfrom\u001b[0m \u001b[0merr\u001b[0m\u001b[0;34m\u001b[0m\u001b[0;34m\u001b[0m\u001b[0m\n\u001b[0m\u001b[1;32m   2901\u001b[0m \u001b[0;34m\u001b[0m\u001b[0m\n\u001b[1;32m   2902\u001b[0m         \u001b[0;32mif\u001b[0m \u001b[0mtolerance\u001b[0m \u001b[0;32mis\u001b[0m \u001b[0;32mnot\u001b[0m \u001b[0;32mNone\u001b[0m\u001b[0;34m:\u001b[0m\u001b[0;34m\u001b[0m\u001b[0;34m\u001b[0m\u001b[0m\n",
            "\u001b[0;31mKeyError\u001b[0m: '272'"
          ]
        }
      ]
    },
    {
      "cell_type": "markdown",
      "metadata": {
        "id": "y0XPFmFss7Q7"
      },
      "source": [
        "# Other stuff\n",
        "- needed to check an error"
      ]
    },
    {
      "cell_type": "code",
      "metadata": {
        "id": "mAa2sK3Ho7C_"
      },
      "source": [
        "# check where error is\n",
        "\n",
        "df_file = pickle.load(open( Path1, \"rb\" ) )\n",
        "rssi_arr=df_file[\"rssi_arr\"]\n",
        "rssi_arr[rssi_arr == -np.Inf] = 0\n",
        "dim=np.shape(rssi_arr)\n",
        "timeline=np.linspace(0.1, (dim[0])*0.1, dim[0]).reshape(dim[0],1)\n",
        "mod_rssi_arr = np.append(rssi_arr, timeline, axis = 1)\n",
        "\n",
        "df_beacon_id = df_file['beacon_uuids']\n",
        "df_beacon_id = np.append(df_beacon_id, \"timeline[s]\")\n",
        "\n",
        "df_rssi_arr= pd.DataFrame(data=mod_rssi_arr,columns=df_beacon_id)\n",
        "\n",
        "# working"
      ],
      "execution_count": null,
      "outputs": []
    },
    {
      "cell_type": "code",
      "metadata": {
        "colab": {
          "base_uri": "https://localhost:8080/"
        },
        "id": "R3_QYsr5CRgq",
        "outputId": "28ae1151-0a49-4f66-f605-64305181cc8b"
      },
      "source": [
        "for index, i in multi_col_flow['beacon_id'].iteritems():\n",
        "  #print(i)\n",
        "  if i in list(MMTS_00091_1620884436927.columns.values.astype(int)):\n",
        "    print(i)\n",
        "  #for j in list(MMTS_00091_1620884436927.columns.values):\n",
        "    #print(j)\n",
        "   # if i == j:\n",
        "    #  print(j)"
      ],
      "execution_count": null,
      "outputs": [
        {
          "output_type": "stream",
          "text": [
            "201\n",
            "202\n",
            "203\n",
            "253\n",
            "254\n",
            "255\n",
            "256\n",
            "257\n",
            "258\n",
            "259\n",
            "260\n",
            "271\n",
            "204\n",
            "205\n",
            "206\n",
            "207\n",
            "208\n",
            "209\n",
            "210\n",
            "211\n",
            "212\n",
            "213\n",
            "214\n",
            "215\n",
            "216\n",
            "217\n",
            "218\n",
            "219\n",
            "220\n",
            "221\n",
            "222\n",
            "223\n",
            "224\n",
            "225\n",
            "226\n",
            "227\n",
            "228\n",
            "229\n",
            "230\n",
            "231\n",
            "232\n",
            "233\n",
            "234\n",
            "235\n",
            "236\n",
            "237\n",
            "238\n",
            "239\n",
            "240\n",
            "241\n",
            "242\n",
            "243\n",
            "244\n",
            "245\n",
            "246\n",
            "247\n",
            "248\n",
            "249\n",
            "250\n",
            "251\n",
            "272\n"
          ],
          "name": "stdout"
        }
      ]
    },
    {
      "cell_type": "code",
      "metadata": {
        "colab": {
          "base_uri": "https://localhost:8080/"
        },
        "id": "P6eqjAlkDhbU",
        "outputId": "82ad2cf6-adcf-4969-f810-8f4a79b56bea"
      },
      "source": [
        "print(multi_col_flow['beacon_id'])\n",
        "print(MMTS_00091_1620884436927.columns.values)\n",
        "print(list(multi_col_flow['beacon_id']))"
      ],
      "execution_count": null,
      "outputs": [
        {
          "output_type": "stream",
          "text": [
            "9     201\n",
            "6     202\n",
            "5     203\n",
            "15    253\n",
            "12    254\n",
            "     ... \n",
            "53    248\n",
            "43    249\n",
            "26    250\n",
            "51    251\n",
            "25    272\n",
            "Name: beacon_id, Length: 61, dtype: int64\n",
            "['201' '202' '203' '204' '205' '206' '207' '208' '209' '210' '211' '212'\n",
            " '213' '214' '215' '216' '217' '218' '219' '220' '221' '222' '223' '224'\n",
            " '225' '226' '227' '228' '229' '230' '231' '232' '233' '234' '235' '236'\n",
            " '237' '238' '239' '240' '241' '242' '243' '244' '245' '246' '247' '248'\n",
            " '249' '250' '251' '253' '254' '255' '256' '257' '258' '259' '260' '261'\n",
            " '262' '263' '264' '265' '266' '267' '268' '269' '270' '271' '272' '273'\n",
            " '274' '275']\n",
            "[201, 202, 203, 253, 254, 255, 256, 257, 258, 259, 260, 271, 204, 205, 206, 207, 208, 209, 210, 211, 212, 213, 214, 215, 216, 217, 218, 219, 220, 221, 222, 223, 224, 225, 226, 227, 228, 229, 230, 231, 232, 233, 234, 235, 236, 237, 238, 239, 240, 241, 242, 243, 244, 245, 246, 247, 248, 249, 250, 251, 272]\n"
          ],
          "name": "stdout"
        }
      ]
    }
  ]
}