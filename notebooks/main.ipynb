{
  "nbformat": 4,
  "nbformat_minor": 0,
  "metadata": {
    "orig_nbformat": 4,
    "colab": {
      "name": "main.ipynb",
      "provenance": [],
      "include_colab_link": true
    },
    "language_info": {
      "name": "python"
    },
    "kernelspec": {
      "name": "python3",
      "display_name": "Python 3"
    }
  },
  "cells": [
    {
      "cell_type": "markdown",
      "metadata": {
        "id": "view-in-github",
        "colab_type": "text"
      },
      "source": [
        "<a href=\"https://colab.research.google.com/github/rrajevan/techlab_motionminer_test/blob/main/notebooks/main.ipynb\" target=\"_parent\"><img src=\"https://colab.research.google.com/assets/colab-badge.svg\" alt=\"Open In Colab\"/></a>"
      ]
    },
    {
      "cell_type": "code",
      "metadata": {
        "colab": {
          "base_uri": "https://localhost:8080/"
        },
        "id": "tpHUpOLKWZbi",
        "outputId": "aa44c6e7-eef7-411e-d09f-3094aa58d81f"
      },
      "source": [
        "import pandas as pd\n",
        "import numpy as np\n",
        "import json\n",
        "import pickle\n",
        "import seaborn as sns\n",
        "from matplotlib import pyplot as plt\n",
        "\n",
        "from google.colab import drive # for running on Google Colab\n",
        "drive.mount('/content/drive') # for running on Google Colab"
      ],
      "execution_count": 7,
      "outputs": [
        {
          "output_type": "stream",
          "name": "stdout",
          "text": [
            "Mounted at /content/drive\n"
          ]
        }
      ]
    },
    {
      "cell_type": "code",
      "metadata": {
        "id": "BkkOy0anWZbx"
      },
      "source": [
        "constant = {\n",
        "    \"region_flow_dict\": {\n",
        "        \"region_name\": [\n",
        "            \"Not in use\",\n",
        "            \"Pre-checkin\",\n",
        "            \"Waiting Checkin\",\n",
        "            \"Checkin Main\",\n",
        "            \"Waiting I\",\n",
        "            \"Doctor Table\",\n",
        "            \"Vaccination\",\n",
        "            \"Waiting II\",\n",
        "            \"Checkout\",\n",
        "            \"Waiting III\",\n",
        "        ],\n",
        "        \"region_id\": [\n",
        "            1,\n",
        "            [2, 5],\n",
        "            90,\n",
        "            [3, 4],\n",
        "            91,\n",
        "            [10, 11, 12, 13, 14, 15, 16, 17, 18, 19],\n",
        "            [20, 21, 22, 23, 24, 25, 26, 27, 28, 29],\n",
        "            92,\n",
        "            [30, 31, 32, 33, 34, 35, 36, 37, 38, 39, 40, 41],\n",
        "            93,\n",
        "        ],\n",
        "        \"flow_id\": [0, 1, 2, 3, 4, 5, 6, 7, 8, 9],\n",
        "    },\n",
        "    \"txpower_vs_distance\": {\n",
        "        \"Distance(m)\": [0, 1, 3, 5, 10, 15, 20, 30, 40, 50],\n",
        "        \"-30(dBm)\": [\n",
        "            -63,\n",
        "            -92,\n",
        "            -99,\n",
        "            -101,\n",
        "            np.nan,\n",
        "            np.nan,\n",
        "            np.nan,\n",
        "            np.nan,\n",
        "            np.nan,\n",
        "            np.nan,\n",
        "        ],\n",
        "        \"-20(dBm)\": [-47, -79, -84, -90, -95, -98, -102, np.nan, np.nan, np.nan],\n",
        "        \"-16(dBm)\": [-42, -71, -82, -88, -95, -97, -102, np.nan, np.nan, np.nan],\n",
        "        \"-12(dBm)\": [-40, -68, -74, -84, -89, -95, -97, -102, np.nan, np.nan],\n",
        "        \"-8(dBm)\": [-40, -66, -73, -82, -87, -92, -94, -96, -99, -102],\n",
        "        \"-4(dBm)\": [-34, -58, -70, -74, -81, -90, -92, -93, -99, -102],\n",
        "        \"0(dBm)\": [-27, -59, -67, -71, -79, -84, -87, -92, -94, -100],\n",
        "        \"4(dBm)\": [-2, -57, -62, -67, -75, -82, -85, -88, -91, -99],\n",
        "    },\n",
        "};"
      ],
      "execution_count": 15,
      "outputs": []
    },
    {
      "cell_type": "code",
      "metadata": {
        "id": "rhYF7gIsWZb2"
      },
      "source": [
        "def create_mapped_layout(layout_path):\n",
        "    \"\"\"\n",
        "    Create a completed layout has beacons, regions and flows\n",
        "\n",
        "    Parameters\n",
        "    ----------\n",
        "    layout_path: str\n",
        "        path of layout file\n",
        "\n",
        "    Returns\n",
        "    -------\n",
        "    pandas.DataFrame\n",
        "        a dataframe of beacons, regions and flows\n",
        "    \"\"\"\n",
        "    with open(layout_path, \"r\") as layout_file:\n",
        "        layout = json.load(layout_file)\n",
        "        beacons_layout = pd.DataFrame.from_dict(layout[\"beacons\"])\n",
        "        regions_layout = pd.DataFrame.from_dict(layout[\"regions\"])\n",
        "\n",
        "    beacons_regions_layout = beacons_layout.merge(\n",
        "        regions_layout, left_on=\"region_uuid\", right_on=\"uuid\"\n",
        "    )\n",
        "\n",
        "    beacons_regions_layout.rename(\n",
        "        columns={\n",
        "            \"id_x\": \"beacon_id\",\n",
        "            \"id_y\": \"region_id\",\n",
        "            \"name\": \"region_name\",\n",
        "            \"position_x\": \"b_pos_x\",\n",
        "            \"position_y\": \"b_pos_y\",\n",
        "            \"position_top_left_x\": \"rpos_top_left_x\",\n",
        "            \"position_top_left_y\": \"rpos_top_left_y\",\n",
        "            \"position_bottom_right_x\": \"rpos_bottom_right_x\",\n",
        "            \"position_bottom_right_y\": \"rpos_bottom_right_y\",\n",
        "        },\n",
        "        inplace=True,\n",
        "    )\n",
        "    beacons_regions_layout[\"region_beacon\"] = (\n",
        "        beacons_regions_layout[\"region_id\"].astype(str)\n",
        "        + \"_\"\n",
        "        + beacons_regions_layout[\"beacon_id\"].astype(str)\n",
        "    )\n",
        "\n",
        "    region_flow_df = pd.DataFrame.from_dict(data=constant[\"region_flow_dict\"])\n",
        "    exploded_region_flow_df = region_flow_df.explode(\"region_id\")\n",
        "\n",
        "    final_layout = beacons_regions_layout.merge(\n",
        "        exploded_region_flow_df, left_on=\"region_id\", right_on=\"region_id\"\n",
        "    )\n",
        "    final_layout[\"flow_beacon\"] = (\n",
        "        final_layout[\"flow_id\"].astype(str)\n",
        "        + \"_\"\n",
        "        + final_layout[\"beacon_id\"].astype(str)\n",
        "    )\n",
        "\n",
        "    return final_layout\n",
        "\n",
        "\n",
        "def get_flow_of_beacon(layout):\n",
        "    \"\"\"\n",
        "    Determine the flow id which beacon belongs to\n",
        "\n",
        "    Parameters\n",
        "    ----------\n",
        "    layout: pandas.DataFrame\n",
        "        the layout has mapped beacons, regions and flows\n",
        "\n",
        "    Returns\n",
        "    -------\n",
        "    pandas.DataFrame\n",
        "        a dataframe of beacons and its corresponding flow id\n",
        "    \"\"\"\n",
        "    beacons_with_flow = layout.loc[\n",
        "        :, [\"beacon_id\", \"flow_id\"]\n",
        "    ]  # only the beacon and flow region ids are relevant here\n",
        "    beacons_with_flow.sort_values(by=[\"flow_id\", \"beacon_id\"], inplace=True)\n",
        "    beacons_with_flow = beacons_with_flow[\n",
        "        [\"flow_id\", \"beacon_id\"]\n",
        "    ]  # change order of the columns\n",
        "\n",
        "    return beacons_with_flow\n",
        "\n",
        "\n",
        "def signal_to_m_converter(dataframe, dbm=\"4(dBm)\"):\n",
        "    \"\"\"\n",
        "    This function convert a (beacon)dataframe with signal values from the tracer\n",
        "    to the corresponding *m*eter values, depend on dBm power that was used.\n",
        "    By default dbm = 4(dBm)\n",
        "    \"\"\"\n",
        "    # extract all different values from dataframe\n",
        "    dataframe_unique_values = np.unique(dataframe)\n",
        "    df_txpower = pd.DataFrame(constant.txpower_vs_distance)\n",
        "\n",
        "    # extract the used power values from table_\"Beacon_datasheet\"\n",
        "    choose_power = df_txpower[dbm]\n",
        "    # caculate the lenght from powerlevel used for later iteration\n",
        "    lenght_power = (df_txpower[dbm]).count()\n",
        "\n",
        "    # empty list for collecting the corresponding meter values for each signal value\n",
        "    list_meter_values = []\n",
        "    flag = True\n",
        "    # loop over unique_values over dataframe\n",
        "    for value in dataframe_unique_values:\n",
        "        # interpolation function\n",
        "        for i in range(0, lenght_power):\n",
        "            if choose_power[i] >= value and value >= choose_power[i + 1]:\n",
        "                meter_value = (\n",
        "                    df_txpower[\"Distance(m)\"][i + 1] - df_txpower[\"Distance(m)\"][i]\n",
        "                ) / (choose_power[i + 1] - choose_power[i]) * (\n",
        "                    value - choose_power[i]\n",
        "                ) + df_txpower[\n",
        "                    \"Distance(m)\"\n",
        "                ][\n",
        "                    i\n",
        "                ]\n",
        "                list_meter_values.append(meter_value)\n",
        "\n",
        "                if flag:\n",
        "                    print(\"\\nDistance i+1\", df_txpower[\"Distance(m)\"][i + 1])\n",
        "                    print(\"\\nDistance i\", df_txpower[\"Distance(m)\"][i])\n",
        "                    print(\"\\nchoose_power i+1\", choose_power[i + 1])\n",
        "                    print(\"\\nchoose_power i\", choose_power[i])\n",
        "                    print(\"\\nvalue\", value)\n",
        "                    print(\"\\ndf_txpower[distance][i]\", df_txpower[\"Distance(m)\"][i])\n",
        "                    flag = False\n",
        "                break\n",
        "        else:\n",
        "            meter_value = np.nan\n",
        "            list_meter_values.append(meter_value)\n",
        "\n",
        "    mod_dataframe = dataframe.replace(list(dataframe_unique_values), list_meter_values)\n",
        "    return mod_dataframe\n",
        "\n",
        "\n",
        "def extract_rssi_to_df(tracer_data_path):\n",
        "    \"\"\"\n",
        "    Takes path from pickle file and create a df with a timeline and the rssi_arr values\n",
        "\n",
        "    Parameters\n",
        "    ----------\n",
        "    tracer_data_path: str\n",
        "        path to tracer data file\n",
        "\n",
        "    Returns\n",
        "    -------\n",
        "    pandas.DataFrame\n",
        "        tracer data\n",
        "    \"\"\"\n",
        "    # create a dataframe df from the picke.file\n",
        "    df_file = pickle.load(open(tracer_data_path, \"rb\"))\n",
        "\n",
        "    # extract rssi_arr key to numpy.array\n",
        "    rssi_arr = df_file[\"rssi_arr\"]\n",
        "\n",
        "    # set -inf equal to 0 (datacleaning)\n",
        "    rssi_arr[rssi_arr == -np.Inf] = np.nan\n",
        "\n",
        "    # figure out the shape from rssi_arr array for the timeline\n",
        "    dim = np.shape(rssi_arr)\n",
        "\n",
        "    # create a timeline and add it to the rssi_arr array\n",
        "    # problem that it changes from 0091 file to others why?\n",
        "    timeline = np.linspace(0.1, (dim[0]) * 0.1, dim[0]).reshape(dim[0], 1)\n",
        "    mod_rssi_arr = np.append(rssi_arr, timeline, axis=1)\n",
        "\n",
        "    # create the colum_names for df_rssi_arr (dataframe)\n",
        "    # Beacon 252 does not exist\n",
        "    # colum_names = []\n",
        "    # for i in range(1, dim[1] + 2):\n",
        "    #     if i == 52:\n",
        "    #         continue\n",
        "    #     else:\n",
        "    #         value = \"Beacon_\" + str(200 + i)\n",
        "    #         colum_names.append(value)\n",
        "    # colum_names.append(\"timeline[s]\")\n",
        "\n",
        "    # beacon id as column\n",
        "    colum_names = df_file[\"beacon_uuids\"]\n",
        "    colum_names = np.append(colum_names, \"timeline[s]\")\n",
        "\n",
        "    # create df_rssi_arr\n",
        "    df_rssi_arr = pd.DataFrame(data=mod_rssi_arr, columns=colum_names)\n",
        "    df = df_rssi_arr.set_index(\"timeline[s]\")\n",
        "\n",
        "    return df\n",
        "\n",
        "\n",
        "def add_flow_as_multi_index(tracer_df, beacon_flow):\n",
        "    \"\"\"\n",
        "    Add flow id as second level column to tracer data\n",
        "\n",
        "    Parameters\n",
        "    ----------\n",
        "    tracer_df: pandas.DataFrame\n",
        "        tracer data\n",
        "    beacon_flow: pandas.DataFrame\n",
        "        the map of beacon and flow\n",
        "\n",
        "    Returns\n",
        "    -------\n",
        "    pandas.DataFrame\n",
        "        tracer data with multi column (multi index)\n",
        "    \"\"\"\n",
        "\n",
        "    tracer_df.columns = tracer_df.columns.map(int)\n",
        "\n",
        "    # list beacons that were not used\n",
        "    not_used_beacons = []\n",
        "    for beacon in tracer_df.columns.values:\n",
        "        if beacon not in list(beacon_flow[\"beacon_id\"]):\n",
        "            not_used_beacons.append(beacon)\n",
        "\n",
        "    # delete beacon_columns that were not used\n",
        "    new_tracer_df = tracer_df.drop(not_used_beacons, axis=1)\n",
        "\n",
        "    # get tuples of flow + beacon in order to use pd.MultiIndex.from_tuples\n",
        "    multi_col_flow_tuple = list(beacon_flow.to_records(index=False))\n",
        "    multi_col_flow_tuple.sort(key=lambda tup: tup[1])  # sort the tuple by beacon ids\n",
        "\n",
        "    # add multicolumn index\n",
        "    new_tracer_df.columns = pd.MultiIndex.from_tuples(\n",
        "        multi_col_flow_tuple, names=(\"Flow\", \"Beacon\")\n",
        "    )\n",
        "\n",
        "    return new_tracer_df[np.sort(new_tracer_df.columns)]\n",
        "\n",
        "\n",
        "def get_max_signal_values(tracer_df):\n",
        "    max_df = pd.DataFrame(\n",
        "        data=list(tracer_df.max(axis=1)),\n",
        "        index=range(len(tracer_df)),\n",
        "        columns=[\"max_signal\"],\n",
        "    )  # max values of each row in the original df\n",
        "    max_df[\"time\"] = tracer_df.index\n",
        "    max_df[\"region_beacon\"] = list(\n",
        "        tracer_df.idxmax(axis=1)\n",
        "    )  # corresponding beacon id and region number of the max value\n",
        "\n",
        "    location = []\n",
        "    for row in max_df.itertuples():\n",
        "        if (\n",
        "            row[1] >= -65\n",
        "        ):  # if the maximum value is over -65 (adjust the value?) then the tracer is located in the responding region\n",
        "            location.append(row[3][0])\n",
        "        else:  # otherwise the tracer can be still allocated to the previous region (the region where it has been located before)\n",
        "            location.append(location[-1])\n",
        "\n",
        "    max_df[\"location_of_tracer\"] = location\n",
        "\n",
        "    max_df = max_df[[\"time\", \"max_signal\", \"region_beacon\", \"location_of_tracer\"]]\n",
        "\n",
        "    return max_df\n",
        "\n",
        "\n",
        "def get_min_distance_values(tracer_df):\n",
        "    min_df = pd.DataFrame(\n",
        "        data=list(tracer_df.min(axis=1)),\n",
        "        index=range(len(tracer_df)),\n",
        "        columns=[\"min_distance\"],\n",
        "    )  # min values of each row in the original df\n",
        "    min_df[\"time\"] = tracer_df.index\n",
        "    # corresponding beacon id and region number of the max value\n",
        "    min_df[\"region_beacon\"] = list(tracer_df.idxmin(axis=1))\n",
        "    # max_df['location_of_tracer'] = 0 #zero as default\n",
        "\n",
        "    location = []\n",
        "    for row in min_df.itertuples():\n",
        "        # if the maximum value is under -65 (adjust the value?) then the tracer is located in the respoing region\n",
        "        if row[1] < -65:\n",
        "            location.append(row[3][0])\n",
        "        # otherwise the tracer can be still allocated to the previous region (the region where it has been located before)\n",
        "        else:\n",
        "            location.append(location[-1])\n",
        "\n",
        "    min_df[\"location_of_tracer\"] = location\n",
        "    min_df = min_df[[\"time\", \"min_distance\", \"region_beacon\", \"location_of_tracer\"]]\n",
        "    min_df[\"location_number\"] = min_df[\"location_of_tracer\"].replace(\n",
        "        constant.regions, range(0, 10)\n",
        "    )\n",
        "\n",
        "    return min_df\n",
        "\n",
        "\n",
        "def order_list(df_location):\n",
        "    order_reg = []\n",
        "    order_reg_index = []\n",
        "    neue_liste = []\n",
        "\n",
        "    for index, value in df_location.iteritems():\n",
        "        if index == 0:\n",
        "            order_reg.append(value)\n",
        "            order_reg_index.append([value, index])\n",
        "        elif value != order_reg_index[-1][0]:\n",
        "            order_reg.append(value)\n",
        "            order_reg_index.append([value, index])\n",
        "\n",
        "    return order_reg, order_reg_index\n",
        "\n",
        "\n",
        "def make_person_list(order_of_df, o_plus_index):\n",
        "    newlist = []\n",
        "    innerlist = []\n",
        "\n",
        "    for index, value in enumerate(order_of_df):\n",
        "        # if index == 0 and value == 0:\n",
        "        #     next\n",
        "        if value != 0:\n",
        "            innerlist.append(value)\n",
        "        else:\n",
        "            newlist.append(innerlist)\n",
        "            newlist.append(value)\n",
        "            innerlist = []\n",
        "\n",
        "    newlist_tup = []\n",
        "    innerlist_tup = []\n",
        "\n",
        "    for index, values in enumerate(o_plus_index):\n",
        "        # if index == 0 and values[0] == 0:\n",
        "        #     next\n",
        "        if values[0] != 0:\n",
        "            innerlist_tup.append((values[0], values[1]))\n",
        "        else:\n",
        "            newlist_tup.append(innerlist_tup)\n",
        "            newlist_tup.append((values[0], values[1]))\n",
        "            innerlist_tup = []\n",
        "\n",
        " \n",
        "    return newlist, newlist_tup\n"
      ],
      "execution_count": 150,
      "outputs": []
    },
    {
      "cell_type": "code",
      "metadata": {
        "id": "3lplp_FjWZcP"
      },
      "source": [
        "# change this path\n",
        "layout_path = \"/content/drive/MyDrive/MM Project/Data/layout.json\"\n",
        "tracer_91_path = \"/content/drive/MyDrive/MM Project/Data/MMTS_00091_1620884436927.bin_beacon_data.pickle\""
      ],
      "execution_count": 151,
      "outputs": []
    },
    {
      "cell_type": "code",
      "metadata": {
        "colab": {
          "base_uri": "https://localhost:8080/"
        },
        "id": "p-uNjRRHWZcS",
        "outputId": "fb3db251-cd60-4d06-ec38-fc9133aea9b9"
      },
      "source": [
        "layout = create_mapped_layout(layout_path)\n",
        "print(\"\\n------------\\n\")\n",
        "print(\n",
        "    \"\\nLayout\\n\",\n",
        "    layout.loc[\n",
        "        :, [\"beacon_id\", \"flow_id\", \"flow_beacon\", \"region_id\", \"region_beacon\"]\n",
        "    ],\n",
        ")"
      ],
      "execution_count": 152,
      "outputs": [
        {
          "output_type": "stream",
          "name": "stdout",
          "text": [
            "\n",
            "------------\n",
            "\n",
            "\n",
            "Layout\n",
            "     beacon_id  flow_id flow_beacon region_id region_beacon\n",
            "0         226        6       6_226        22        22_226\n",
            "1         225        6       6_225        22        22_225\n",
            "2         215        5       5_215        14        14_215\n",
            "3         245        8       8_245        34        34_245\n",
            "4         260        0       0_260         1         1_260\n",
            "..        ...      ...         ...       ...           ...\n",
            "56        244        8       8_244        33        33_244\n",
            "57        219        5       5_219        18        18_219\n",
            "58        218        5       5_218        17        17_218\n",
            "59        220        5       5_220        19        19_220\n",
            "60        212        5       5_212        11        11_212\n",
            "\n",
            "[61 rows x 5 columns]\n"
          ]
        }
      ]
    },
    {
      "cell_type": "code",
      "metadata": {
        "colab": {
          "base_uri": "https://localhost:8080/"
        },
        "id": "-KihzLr2WZcV",
        "outputId": "9959f849-1840-48da-a50f-f7f4447f66f0"
      },
      "source": [
        "beacon_flow = get_flow_of_beacon(layout)\n",
        "print(\"\\n------------\\n\")\n",
        "print(\"\\nBeacon vs Flow\\n\", beacon_flow)"
      ],
      "execution_count": 130,
      "outputs": [
        {
          "output_type": "stream",
          "name": "stdout",
          "text": [
            "\n",
            "------------\n",
            "\n",
            "\n",
            "Beacon vs Flow\n",
            "     flow_id  beacon_id\n",
            "9         0        201\n",
            "6         0        202\n",
            "5         0        203\n",
            "8         0        258\n",
            "7         0        259\n",
            "..      ...        ...\n",
            "53        8        248\n",
            "43        8        249\n",
            "26        8        250\n",
            "51        8        251\n",
            "25        8        272\n",
            "\n",
            "[61 rows x 2 columns]\n"
          ]
        }
      ]
    },
    {
      "cell_type": "code",
      "metadata": {
        "colab": {
          "base_uri": "https://localhost:8080/"
        },
        "id": "B2Vdf-R6WZcX",
        "outputId": "c7bc6353-76b2-45e1-8a3f-24be494d3218"
      },
      "source": [
        "tracer_91 = extract_rssi_to_df(tracer_91_path)\n",
        "print(\"\\n------------\\n\")\n",
        "print(\"\\nTracer data\\n\", tracer_91)"
      ],
      "execution_count": 153,
      "outputs": [
        {
          "output_type": "stream",
          "name": "stdout",
          "text": [
            "\n",
            "------------\n",
            "\n",
            "\n",
            "Tracer data\n",
            "               201   202   203  204  205  206  ...   270  271  272   273   274   275\n",
            "timeline[s]                                   ...                                  \n",
            "0.1         -74.0   NaN -50.0  NaN  NaN  NaN  ... -61.0  NaN  NaN -65.0 -61.0 -62.0\n",
            "0.2         -74.0 -47.0 -50.0  NaN  NaN  NaN  ... -61.0  NaN  NaN -65.0 -61.0 -62.0\n",
            "0.3         -74.0 -47.0 -50.0  NaN  NaN  NaN  ... -61.0  NaN  NaN -65.0 -61.0 -62.0\n",
            "0.4         -74.0 -47.0 -50.0  NaN  NaN  NaN  ... -61.0  NaN  NaN -65.0 -61.0 -62.0\n",
            "0.5         -48.0 -47.0 -50.0  NaN  NaN  NaN  ... -61.0  NaN  NaN -65.0 -60.0 -60.0\n",
            "...           ...   ...   ...  ...  ...  ...  ...   ...  ...  ...   ...   ...   ...\n",
            "42119.2     -61.0 -67.0 -64.0  NaN  NaN  NaN  ... -78.0  NaN  NaN -80.0 -76.0 -72.0\n",
            "42119.3     -62.0 -64.0 -62.0  NaN  NaN  NaN  ... -73.0  NaN  NaN -80.0 -72.0 -72.0\n",
            "42119.4     -62.0 -64.0 -62.0  NaN  NaN  NaN  ... -73.0  NaN  NaN -80.0 -72.0 -72.0\n",
            "42119.5     -62.0 -64.0 -62.0  NaN  NaN  NaN  ... -73.0  NaN  NaN -82.0 -72.0 -72.0\n",
            "42119.6     -62.0 -64.0 -62.0  NaN  NaN  NaN  ...   NaN  NaN  NaN -82.0 -72.0   NaN\n",
            "\n",
            "[421196 rows x 74 columns]\n"
          ]
        }
      ]
    },
    {
      "cell_type": "code",
      "metadata": {
        "colab": {
          "base_uri": "https://localhost:8080/"
        },
        "id": "9OAxIlUQWZca",
        "outputId": "35503720-dc79-4423-fdd2-b9f77a250e14"
      },
      "source": [
        "flow_tracer_91 = add_flow_as_multi_index(tracer_91, beacon_flow)\n",
        "print(\"\\n------------\\n\")\n",
        "print(flow_tracer_91)"
      ],
      "execution_count": 154,
      "outputs": [
        {
          "output_type": "stream",
          "name": "stdout",
          "text": [
            "\n",
            "------------\n",
            "\n",
            "Flow            0                                 1  ...   8                        \n",
            "Beacon        201   202   203   258   259   260 253  ... 246 247 248 249 250 251 272\n",
            "timeline[s]                                          ...                            \n",
            "0.1         -74.0   NaN -50.0 -57.0 -71.0 -73.0 NaN  ... NaN NaN NaN NaN NaN NaN NaN\n",
            "0.2         -74.0 -47.0 -50.0 -57.0 -71.0 -73.0 NaN  ... NaN NaN NaN NaN NaN NaN NaN\n",
            "0.3         -74.0 -47.0 -50.0 -57.0 -71.0 -73.0 NaN  ... NaN NaN NaN NaN NaN NaN NaN\n",
            "0.4         -74.0 -47.0 -50.0 -57.0 -71.0 -73.0 NaN  ... NaN NaN NaN NaN NaN NaN NaN\n",
            "0.5         -48.0 -47.0 -50.0 -57.0 -57.0 -73.0 NaN  ... NaN NaN NaN NaN NaN NaN NaN\n",
            "...           ...   ...   ...   ...   ...   ...  ..  ...  ..  ..  ..  ..  ..  ..  ..\n",
            "42119.2     -61.0 -67.0 -64.0 -62.0 -59.0 -50.0 NaN  ... NaN NaN NaN NaN NaN NaN NaN\n",
            "42119.3     -62.0 -64.0 -62.0 -65.0 -58.0 -53.0 NaN  ... NaN NaN NaN NaN NaN NaN NaN\n",
            "42119.4     -62.0 -64.0 -62.0 -65.0 -58.0 -53.0 NaN  ... NaN NaN NaN NaN NaN NaN NaN\n",
            "42119.5     -62.0 -64.0 -62.0   NaN -54.0 -53.0 NaN  ... NaN NaN NaN NaN NaN NaN NaN\n",
            "42119.6     -62.0 -64.0 -62.0   NaN -54.0   NaN NaN  ... NaN NaN NaN NaN NaN NaN NaN\n",
            "\n",
            "[421196 rows x 61 columns]\n"
          ]
        }
      ]
    },
    {
      "cell_type": "code",
      "metadata": {
        "colab": {
          "base_uri": "https://localhost:8080/"
        },
        "id": "_fphgPwkWZch",
        "outputId": "c46df4e3-77f7-47c9-b6de-87aa069fcb2e"
      },
      "source": [
        "max_signal_df = get_max_signal_values(flow_tracer_91)\n",
        "print(\"\\n------------\\n\")\n",
        "print(max_signal_df)"
      ],
      "execution_count": 155,
      "outputs": [
        {
          "output_type": "stream",
          "name": "stdout",
          "text": [
            "\n",
            "------------\n",
            "\n",
            "           time  max_signal region_beacon  location_of_tracer\n",
            "0           0.1       -50.0      (0, 203)                   0\n",
            "1           0.2       -47.0      (0, 202)                   0\n",
            "2           0.3       -47.0      (0, 202)                   0\n",
            "3           0.4       -47.0      (0, 202)                   0\n",
            "4           0.5       -47.0      (0, 202)                   0\n",
            "...         ...         ...           ...                 ...\n",
            "421191  42119.2       -50.0      (0, 260)                   0\n",
            "421192  42119.3       -53.0      (0, 260)                   0\n",
            "421193  42119.4       -53.0      (0, 260)                   0\n",
            "421194  42119.5       -53.0      (0, 260)                   0\n",
            "421195  42119.6       -54.0      (0, 259)                   0\n",
            "\n",
            "[421196 rows x 4 columns]\n"
          ]
        }
      ]
    },
    {
      "cell_type": "code",
      "metadata": {
        "colab": {
          "base_uri": "https://localhost:8080/"
        },
        "id": "BVW-Iuv2WZck",
        "outputId": "a1527d08-9372-436e-b205-db1c43b51d1e"
      },
      "source": [
        "order_list, order_list_with_index = order_list(max_signal_df.location_of_tracer)\n",
        "print(\"\\n------------\\n\")\n",
        "print(order_list)\n",
        "print(\"\\n------------\\n\")\n",
        "print(order_list_with_index)"
      ],
      "execution_count": 156,
      "outputs": [
        {
          "output_type": "stream",
          "name": "stdout",
          "text": [
            "\n",
            "------------\n",
            "\n",
            "[0, 5, 8, 0, 1, 3, 5, 3, 5, 6, 8, 6, 8, 6, 8, 0, 5, 6, 8, 0, 6, 3, 1, 0, 1, 3, 5, 6, 5, 6, 5, 6, 5, 6, 8, 0, 1, 0, 1, 3, 5, 6, 8, 0, 1, 0, 1, 3, 5, 6, 5, 6, 8, 6, 0, 1, 0, 1, 3, 5, 6, 8, 6, 8, 6, 8, 6, 8, 0, 1, 0, 1, 3, 5, 6, 8, 0, 1, 0, 5, 8, 0, 1, 0, 1, 0, 1, 0, 1, 0, 1, 0, 1, 0, 1, 0, 1, 0, 1, 0, 1, 0, 1, 0, 1, 0, 1, 0, 1, 0, 1, 3, 5, 6, 8, 0, 1, 0, 1, 0, 1, 3, 5, 6, 8, 6, 8, 0, 1, 0, 1, 0, 1, 0, 1, 0, 1, 0, 1, 0, 1, 0, 1, 0, 1, 3, 5, 6, 8, 0, 1, 0, 1, 3, 5, 6, 8, 0]\n",
            "\n",
            "------------\n",
            "\n",
            "[[0, 0], [5, 17552], [8, 22545], [0, 26953], [1, 33782], [3, 35613], [5, 38279], [3, 41871], [5, 43196], [6, 46755], [8, 47281], [6, 47284], [8, 47347], [6, 47386], [8, 48077], [0, 51567], [5, 69972], [6, 71540], [8, 73301], [0, 79032], [6, 95175], [3, 95619], [1, 95958], [0, 96113], [1, 100147], [3, 103252], [5, 106193], [6, 108482], [5, 108490], [6, 109196], [5, 109202], [6, 109212], [5, 109218], [6, 109220], [8, 113896], [0, 119828], [1, 123829], [0, 124071], [1, 130134], [3, 132960], [5, 141864], [6, 141898], [8, 147117], [0, 152832], [1, 175178], [0, 175336], [1, 180003], [3, 190432], [5, 192420], [6, 196622], [5, 196628], [6, 196658], [8, 198131], [6, 199491], [0, 200335], [1, 207140], [0, 207323], [1, 211976], [3, 219788], [5, 222898], [6, 224478], [8, 225209], [6, 225794], [8, 225809], [6, 225897], [8, 225923], [6, 225967], [8, 226263], [0, 233607], [1, 242264], [0, 245650], [1, 252678], [3, 253376], [5, 260635], [6, 264205], [8, 265473], [0, 274104], [1, 280197], [0, 280456], [5, 288982], [8, 293641], [0, 298229], [1, 313680], [0, 313682], [1, 313693], [0, 313697], [1, 313706], [0, 313709], [1, 313725], [0, 313729], [1, 313904], [0, 313906], [1, 314001], [0, 314008], [1, 314009], [0, 314015], [1, 314025], [0, 314073], [1, 314075], [0, 314077], [1, 314082], [0, 314095], [1, 314102], [0, 314107], [1, 314114], [0, 314115], [1, 316568], [0, 316952], [1, 317007], [0, 317268], [1, 318344], [3, 318974], [5, 325529], [6, 327257], [8, 328423], [0, 335178], [1, 337434], [0, 337517], [1, 346945], [0, 346950], [1, 346958], [3, 348282], [5, 350757], [6, 355117], [8, 356478], [6, 358327], [8, 358343], [0, 359406], [1, 366003], [0, 366081], [1, 366084], [0, 366095], [1, 366097], [0, 366103], [1, 366108], [0, 366118], [1, 366120], [0, 366123], [1, 366124], [0, 366152], [1, 366934], [0, 366967], [1, 366995], [0, 366998], [1, 368165], [3, 368752], [5, 372113], [6, 373283], [8, 374342], [0, 379345], [1, 385493], [0, 385510], [1, 385547], [3, 386849], [5, 396904], [6, 398165], [8, 399794], [0, 401859]]\n"
          ]
        }
      ]
    },
    {
      "cell_type": "code",
      "metadata": {
        "colab": {
          "base_uri": "https://localhost:8080/"
        },
        "id": "Pvy2jyYGWZcn",
        "outputId": "633f5ef4-9bdc-4ddb-f0d1-d900d0e745cb"
      },
      "source": [
        "person_grouped_by_flow, flow_with_time = make_person_list(\n",
        "    order_list, order_list_with_index\n",
        ")\n",
        "print(\"\\n------------\\n\")\n",
        "print(person_grouped_by_flow)\n",
        "print(\"\\n------------\\n\")\n",
        "print(flow_with_time)"
      ],
      "execution_count": 157,
      "outputs": [
        {
          "output_type": "stream",
          "name": "stdout",
          "text": [
            "\n",
            "------------\n",
            "\n",
            "[[], 0, [5, 8], 0, [1, 3, 5, 3, 5, 6, 8, 6, 8, 6, 8], 0, [5, 6, 8], 0, [6, 3, 1], 0, [1, 3, 5, 6, 5, 6, 5, 6, 5, 6, 8], 0, [1], 0, [1, 3, 5, 6, 8], 0, [1], 0, [1, 3, 5, 6, 5, 6, 8, 6], 0, [1], 0, [1, 3, 5, 6, 8, 6, 8, 6, 8, 6, 8], 0, [1], 0, [1, 3, 5, 6, 8], 0, [1], 0, [5, 8], 0, [1], 0, [1], 0, [1], 0, [1], 0, [1], 0, [1], 0, [1], 0, [1], 0, [1], 0, [1], 0, [1], 0, [1], 0, [1], 0, [1], 0, [1, 3, 5, 6, 8], 0, [1], 0, [1], 0, [1, 3, 5, 6, 8, 6, 8], 0, [1], 0, [1], 0, [1], 0, [1], 0, [1], 0, [1], 0, [1], 0, [1], 0, [1, 3, 5, 6, 8], 0, [1], 0, [1, 3, 5, 6, 8], 0]\n",
            "\n",
            "------------\n",
            "\n",
            "[[], (0, 0), [(5, 17552), (8, 22545)], (0, 26953), [(1, 33782), (3, 35613), (5, 38279), (3, 41871), (5, 43196), (6, 46755), (8, 47281), (6, 47284), (8, 47347), (6, 47386), (8, 48077)], (0, 51567), [(5, 69972), (6, 71540), (8, 73301)], (0, 79032), [(6, 95175), (3, 95619), (1, 95958)], (0, 96113), [(1, 100147), (3, 103252), (5, 106193), (6, 108482), (5, 108490), (6, 109196), (5, 109202), (6, 109212), (5, 109218), (6, 109220), (8, 113896)], (0, 119828), [(1, 123829)], (0, 124071), [(1, 130134), (3, 132960), (5, 141864), (6, 141898), (8, 147117)], (0, 152832), [(1, 175178)], (0, 175336), [(1, 180003), (3, 190432), (5, 192420), (6, 196622), (5, 196628), (6, 196658), (8, 198131), (6, 199491)], (0, 200335), [(1, 207140)], (0, 207323), [(1, 211976), (3, 219788), (5, 222898), (6, 224478), (8, 225209), (6, 225794), (8, 225809), (6, 225897), (8, 225923), (6, 225967), (8, 226263)], (0, 233607), [(1, 242264)], (0, 245650), [(1, 252678), (3, 253376), (5, 260635), (6, 264205), (8, 265473)], (0, 274104), [(1, 280197)], (0, 280456), [(5, 288982), (8, 293641)], (0, 298229), [(1, 313680)], (0, 313682), [(1, 313693)], (0, 313697), [(1, 313706)], (0, 313709), [(1, 313725)], (0, 313729), [(1, 313904)], (0, 313906), [(1, 314001)], (0, 314008), [(1, 314009)], (0, 314015), [(1, 314025)], (0, 314073), [(1, 314075)], (0, 314077), [(1, 314082)], (0, 314095), [(1, 314102)], (0, 314107), [(1, 314114)], (0, 314115), [(1, 316568)], (0, 316952), [(1, 317007)], (0, 317268), [(1, 318344), (3, 318974), (5, 325529), (6, 327257), (8, 328423)], (0, 335178), [(1, 337434)], (0, 337517), [(1, 346945)], (0, 346950), [(1, 346958), (3, 348282), (5, 350757), (6, 355117), (8, 356478), (6, 358327), (8, 358343)], (0, 359406), [(1, 366003)], (0, 366081), [(1, 366084)], (0, 366095), [(1, 366097)], (0, 366103), [(1, 366108)], (0, 366118), [(1, 366120)], (0, 366123), [(1, 366124)], (0, 366152), [(1, 366934)], (0, 366967), [(1, 366995)], (0, 366998), [(1, 368165), (3, 368752), (5, 372113), (6, 373283), (8, 374342)], (0, 379345), [(1, 385493)], (0, 385510), [(1, 385547), (3, 386849), (5, 396904), (6, 398165), (8, 399794)], (0, 401859)]\n"
          ]
        }
      ]
    },
    {
      "cell_type": "code",
      "metadata": {
        "colab": {
          "base_uri": "https://localhost:8080/",
          "height": 729
        },
        "id": "wDROok9uWZco",
        "outputId": "6002a5a8-4e01-465d-e320-dab69202cca7"
      },
      "source": [
        "sns.relplot(\n",
        "    data=max_signal_df,\n",
        "    x=max_signal_df.time,\n",
        "    y=\"location_of_tracer\",\n",
        "    kind=\"line\",\n",
        "    height=10,\n",
        ")\n",
        "plt.show()"
      ],
      "execution_count": 28,
      "outputs": [
        {
          "output_type": "display_data",
          "data": {
            "image/png": "[encoded data removed]",
            "text/plain": [
              "<Figure size 720x720 with 1 Axes>"
            ]
          },
          "metadata": {
            "needs_background": "light"
          }
        }
      ]
    }
  ]
}